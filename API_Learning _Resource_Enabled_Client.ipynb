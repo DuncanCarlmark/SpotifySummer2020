{
 "cells": [
  {
   "cell_type": "code",
   "execution_count": 1,
   "metadata": {},
   "outputs": [],
   "source": [
    "# Standard imports\n",
    "\n",
    "\n",
    "# Custom imports\n",
    "from src.spotify_client import *"
   ]
  },
  {
   "cell_type": "markdown",
   "metadata": {},
   "source": [
    "# Initialize the Client Object"
   ]
  },
  {
   "cell_type": "code",
   "execution_count": 2,
   "metadata": {},
   "outputs": [
    {
     "data": {
      "text/plain": [
       "True"
      ]
     },
     "execution_count": 2,
     "metadata": {},
     "output_type": "execute_result"
    }
   ],
   "source": [
    "client = SpotifyAPI(client_id, client_secret)\n",
    "client.auth()"
   ]
  },
  {
   "cell_type": "markdown",
   "metadata": {},
   "source": [
    "# Test the client by searching for individual things"
   ]
  },
  {
   "cell_type": "code",
   "execution_count": 3,
   "metadata": {},
   "outputs": [
    {
     "name": "stdout",
     "output_type": "stream",
     "text": [
      "https://api.spotify.com/v1/search?q=the+eden+project&type=artist\n",
      "200\n"
     ]
    },
    {
     "data": {
      "text/plain": [
       "['electropop', 'indie poptimism', 'modern rock', 'pop']"
      ]
     },
     "execution_count": 3,
     "metadata": {},
     "output_type": "execute_result"
    }
   ],
   "source": [
    "r = client.searchArtist('the eden project')\n",
    "r['artists']['items'][0]['genres']"
   ]
  },
  {
   "cell_type": "code",
   "execution_count": null,
   "metadata": {},
   "outputs": [],
   "source": [
    "# Set Up Streaming History\n",
    "streamingHistory = []\n",
    "\n",
    "for f in os.listdir('data/data_2019'):\n",
    "    if f.startswith('StreamingHistory'):\n",
    "        streamingHistory.append(pd.read_json(os.path.join('data/data_2019', f)))\n",
    "    \n",
    "        \n",
    "rawHist = pd.concat(streamingHistory).reset_index(drop=True)"
   ]
  },
  {
   "cell_type": "code",
   "execution_count": null,
   "metadata": {},
   "outputs": [],
   "source": [
    "rawHist"
   ]
  },
  {
   "cell_type": "code",
   "execution_count": null,
   "metadata": {},
   "outputs": [],
   "source": []
  },
  {
   "cell_type": "code",
   "execution_count": null,
   "metadata": {},
   "outputs": [],
   "source": [
    "artists = rawHist['artistName'].unique()\n",
    "genreList = []\n",
    "skippedList = []\n",
    "painCount = 0\n",
    "painOffset = 0\n",
    "i = 0\n",
    "while i < len(artists):\n",
    "    try:\n",
    "        print(i - painOffset)\n",
    "        r = client.searchArtist(artists[i - painOffset])\n",
    "\n",
    "        # Make sure the query returns something\n",
    "        if len(r['artists']['items']) != 0:\n",
    "            print('APPENDED GENRE')\n",
    "            genreList.append(r['artists']['items'][0]['genres'])\n",
    "        else:\n",
    "            print('APPENDED NAN')\n",
    "            genreList.append(np.nan)\n",
    "            \n",
    "        i += 1\n",
    "\n",
    "        \n",
    "    except SSLError:\n",
    "        painCount += 1\n",
    "        print(\"HELP HELP HELP HELP\")\n",
    "        \n",
    "            \n",
    "print(painCount)"
   ]
  },
  {
   "cell_type": "code",
   "execution_count": null,
   "metadata": {},
   "outputs": [],
   "source": [
    "genreKey = dict(zip(artists, genreList))"
   ]
  },
  {
   "cell_type": "code",
   "execution_count": null,
   "metadata": {},
   "outputs": [],
   "source": [
    "genreKey['Zedd']"
   ]
  },
  {
   "cell_type": "code",
   "execution_count": null,
   "metadata": {},
   "outputs": [],
   "source": [
    "dfGenres = pd.DataFrame({'artistName':artists, 'genres':genreList})"
   ]
  },
  {
   "cell_type": "code",
   "execution_count": null,
   "metadata": {},
   "outputs": [],
   "source": [
    "dfGenres.to_csv('dfGenres.csv', index=False)"
   ]
  },
  {
   "cell_type": "code",
   "execution_count": null,
   "metadata": {},
   "outputs": [],
   "source": [
    "rawHist.to_csv('totalHist.csv', index=False)"
   ]
  },
  {
   "cell_type": "code",
   "execution_count": null,
   "metadata": {},
   "outputs": [],
   "source": [
    "rawHist"
   ]
  },
  {
   "cell_type": "code",
   "execution_count": null,
   "metadata": {},
   "outputs": [],
   "source": [
    "def appendGenres(row):\n",
    "    artist = row['artistName']\n",
    "    return genreKey[artist]\n",
    "    "
   ]
  },
  {
   "cell_type": "code",
   "execution_count": null,
   "metadata": {},
   "outputs": [],
   "source": [
    "genreCol = rawHist.apply(appendGenres, axis=1)\n",
    "hist = rawHist.assign(genre = genreCol)\n"
   ]
  },
  {
   "cell_type": "code",
   "execution_count": null,
   "metadata": {},
   "outputs": [],
   "source": [
    "hist"
   ]
  },
  {
   "cell_type": "code",
   "execution_count": null,
   "metadata": {},
   "outputs": [],
   "source": [
    "enc = OneHotEncoder()"
   ]
  },
  {
   "cell_type": "code",
   "execution_count": null,
   "metadata": {},
   "outputs": [],
   "source": [
    "hist = hist.dropna()\n",
    "hist.isna().mean()"
   ]
  },
  {
   "cell_type": "code",
   "execution_count": null,
   "metadata": {
    "scrolled": false
   },
   "outputs": [],
   "source": [
    "temp = []\n",
    "for i in genreKey.values():\n",
    "    if type(i) == list:\n",
    "        for j in i:\n",
    "            temp.append(j)"
   ]
  },
  {
   "cell_type": "code",
   "execution_count": null,
   "metadata": {},
   "outputs": [],
   "source": [
    "genres = pd.Series(temp).unique()"
   ]
  },
  {
   "cell_type": "code",
   "execution_count": null,
   "metadata": {},
   "outputs": [],
   "source": [
    "datetime.date.today()"
   ]
  },
  {
   "cell_type": "code",
   "execution_count": null,
   "metadata": {},
   "outputs": [],
   "source": []
  },
  {
   "cell_type": "code",
   "execution_count": null,
   "metadata": {},
   "outputs": [],
   "source": []
  }
 ],
 "metadata": {
  "kernelspec": {
   "display_name": "Python 3",
   "language": "python",
   "name": "python3"
  },
  "language_info": {
   "codemirror_mode": {
    "name": "ipython",
    "version": 3
   },
   "file_extension": ".py",
   "mimetype": "text/x-python",
   "name": "python",
   "nbconvert_exporter": "python",
   "pygments_lexer": "ipython3",
   "version": "3.8.5"
  }
 },
 "nbformat": 4,
 "nbformat_minor": 2
}
